{
 "cells": [
  {
   "cell_type": "markdown",
   "metadata": {},
   "source": [
    "# Zasady zaliczenia"
   ]
  },
  {
   "cell_type": "markdown",
   "metadata": {},
   "source": [
    "* Na kazdych zajeciach notebook do oddania do konca zajec T+1 (mailowo jako pdf, lub link do repozytorium na githubie), lub za polowe punktow do konca zajęć T+2\n",
    "\n",
    "* Ocena z ćwiczeń na podstawie typowych progów 90%, 80%, etc.\n",
    "\n",
    "* 2 nieobecnośći"
   ]
  },
  {
   "cell_type": "markdown",
   "metadata": {},
   "source": [
    "# Praktyczny Machine Learning w Pythonie\n",
    "\n",
    "Cel: \n",
    "\n",
    "1. zobaczyc jak w praktyce uzywa sie machine learningu w wielu firmach. Potem bedzie duzo mniej praktyki :)\n",
    "\n",
    "2. zapoznanie z pakietami scikit-learn, numpy, matplotlib z zastosowaniem do rozpoznawania cyfr. Konkurs pod koniec: jeszcze więcej rozpoznawania cyfr:)\n",
    "\n",
    "(Tak, to nie jest tak ze wielkie firmy uzywaja duzo trudniejszych modeli niż to co Państwo poznają na tych zajęciach, niestety)\n",
    "\n",
    "Następne zajęcia: teoria za regresją logistyczną, którą omówimy dzisiaj\n",
    "\n",
    "<br>\n",
    "<img src=\"figures/L1/python-comic-2.png\">\n",
    "\n",
    "## Przydatne pakiety\n",
    "\n",
    "Python to język wysokiego poziomu z ogromną ilością pakietów. \n",
    "\n",
    "Najpierw skupimy się na tym jak w praktyczny sposób wykorzystać pakiet scikit-learn do rozwiązywania problemów machine learningowych, które mogą się pojawić przy okazji inych projektów. Scikit-learn jest używany w takich firmach jak Microsoft, Evernote czy Spotify. Zawdzięcza to świetnemu API, dobrej wydajności i bardzo aktywnej społeczności.\n",
    "\n",
    "Uwaga: nie uczymy pythona, ale mam nadzieję, że składnia jest intuicyjna\n",
    "\n",
    "W tej części poznamy przydatne pakiety i narzędzia, które obecnie stanowią podstawę machine learningu w Pythonie:  IPython Notebook, numpy oraz matplolib.\n",
    "\n",
    "Pakietów jest duzo więcej: Scipy, Pandas, Sympy, PyTables, Cython, Blaze, NLTK i inne. Większość z nich jest dostępna w Anacondzie."
   ]
  },
  {
   "cell_type": "markdown",
   "metadata": {},
   "source": [
    "##  IPython Notebook\n",
    "\n",
    "* \"Mathematicowy\" notebook - możliwość ewaluacji komórek, podpowiadanie składni (tab) i inne\n",
    "* Właśnie go używamy :)\n",
    "* Dużo magicznych rzeczy (wyświetlanie wykresów, równoległe obliczenia)\n",
    "* Bardzo wygodne do zdalnego odpalania kodu na swoim serwerze\n",
    "* ctrl + enter - odpal kod w komórce\n",
    "* ctrl + m + b - wstaw komórke poniżej (w command mode wystarczy b)\n",
    "* Inne przydatne skróty pod ctrl + m + h (lub w Help -> Keyboard Shortcuts).\n",
    "* Alternatywą jest collaboratory (nastawiony na jednoczesną pracę nad jednym notebooiem)"
   ]
  },
  {
   "cell_type": "markdown",
   "metadata": {},
   "source": [
    "## Numpy\n",
    "* Wygodne operacje na macierzach, wektorach itp.\n",
    "* Podstawa praktycznie wszystkich pakietów machine learning\n",
    "* Pod spodem wydajny kod C, BLAS (można podpiąć np. szybszy OpenBLAS). \n",
    "\n",
    "Zamiast teorii spróbujmy zrobić pare rzeczy w numpy"
   ]
  },
  {
   "cell_type": "code",
   "execution_count": 2,
   "metadata": {
    "collapsed": false
   },
   "outputs": [
    {
     "name": "stdout",
     "output_type": "stream",
     "text": [
      "a:  [1 2 3 4]\n",
      "Pierwszy element:  1\n",
      "Drugi element!:  2\n",
      "a+1: [2 3 4 5]\n",
      "2*a: [2 4 6 8]\n",
      "b:  [1 2 3 4]\n",
      "Iloczyn skalarny <a,b>:  30\n"
     ]
    }
   ],
   "source": [
    "import numpy as np\n",
    "a = np.array([1, 2, 3, 4])\n",
    "print \"a: \", a\n",
    "print \"Pierwszy element: \", a[0]\n",
    "print \"Drugi element!: \", a[1]\n",
    "print \"a+1:\", a + 1\n",
    "print \"2*a:\", 2*a\n",
    "b = np.array([1, 2, 3, 4])\n",
    "print \"b: \", b\n",
    "print \"Iloczyn skalarny <a,b>: \", np.inner(a,b) # Iloczyn skalarny"
   ]
  },
  {
   "cell_type": "code",
   "execution_count": 4,
   "metadata": {
    "collapsed": false
   },
   "outputs": [
    {
     "name": "stdout",
     "output_type": "stream",
     "text": [
      "a =  [[ 1.  0.  0.]\n",
      " [ 0.  1.  0.]\n",
      " [ 0.  0.  1.]]\n",
      "\n",
      "b =  [[ 0.06155327  0.37632435  0.70935316]\n",
      " [ 0.40236883  0.37323993  0.99941991]\n",
      " [ 0.21685251  0.85573161  0.03489185]]\n",
      "\n",
      "a*b = [[ 0.06155327  0.          0.        ]\n",
      " [ 0.          0.37323993  0.        ]\n",
      " [ 0.          0.          0.03489185]]\n",
      "\n",
      "np.dot(a,b) =  [[ 0.06155327  0.37632435  0.70935316]\n",
      " [ 0.40236883  0.37323993  0.99941991]\n",
      " [ 0.21685251  0.85573161  0.03489185]]\n"
     ]
    }
   ],
   "source": [
    "a = np.eye(3) # Macierz identyczności (jedynki na diagonali) 3x3\n",
    "b = np.random.uniform(size=(3,3)) # Losowa macierz 3x3\n",
    "print \"a = \", a\n",
    "print\n",
    "print \"b = \", b\n",
    "print\n",
    "print \"a*b =\", a*b # Mnozenie kazdy element razy kazdy\n",
    "print\n",
    "print \"np.dot(a,b) = \", np.dot(a,b) # Mnozenie macierzowe "
   ]
  },
  {
   "cell_type": "code",
   "execution_count": 3,
   "metadata": {
    "collapsed": false
   },
   "outputs": [
    {
     "name": "stdout",
     "output_type": "stream",
     "text": [
      "Suma elementow od 1 do 3 włącznie:  10\n"
     ]
    }
   ],
   "source": [
    "# Możemy wziąć część wektora i wykonać na nim jakąś operację\n",
    "a = np.array([1,2,3,4,5])\n",
    "print \"Suma elementow od 1 do 3 włącznie: \", a[0:4].sum()\n",
    "# Jest bardzo dużo różnych operacji. Można zobaczyć przez wpisanie \"a.\" i tab (autocompletion)."
   ]
  },
  {
   "cell_type": "code",
   "execution_count": 6,
   "metadata": {
    "collapsed": false,
    "scrolled": true
   },
   "outputs": [
    {
     "name": "stdout",
     "output_type": "stream",
     "text": [
      "1\n",
      "2\n",
      "3\n",
      "4\n",
      "5\n"
     ]
    }
   ],
   "source": [
    "# Oczywiście obiekty numpy są iterowalne\n",
    "for x in a:\n",
    "    print x"
   ]
  },
  {
   "cell_type": "markdown",
   "metadata": {},
   "source": [
    "### Ćwiczenie 1 (1 pkt)\n",
    "    a) znajdź największą i najmniejszą wartość w wektorze c. \n",
    "    b) stworzyć analogicznie wektor d i policzyć unormowany iloczyn skalarny. Ile wynosi jak zwiększymy ilość wymiarów?"
   ]
  },
  {
   "cell_type": "code",
   "execution_count": 7,
   "metadata": {
    "collapsed": false
   },
   "outputs": [
    {
     "name": "stdout",
     "output_type": "stream",
     "text": [
      "Największa wartość w wektorze c to:  0.741546605845\n",
      "Najmniejsza wartość w wektorze c to:  0.0894762824668\n",
      "Unormowany iloczyn skalarny wektorów c i d to:  0.132361773012\n",
      "Unormowany iloczyn skalarny wektorów x i y to:  [[0 0]\n",
      " [0 0]]\n"
     ]
    }
   ],
   "source": [
    "import numpy as np\n",
    "c = np.random.uniform(size=(5,)) # wektor 5 pseudolosowych liczb\n",
    "max_value = c.max()\n",
    "min_value = c.min()\n",
    "print \"Największa wartość w wektorze c to: \", max_value # największa wartość\n",
    "print \"Najmniejsza wartość w wektorze c to: \", min_value # najmniejsza wartość\n",
    "d = np.random.uniform(size=(5,)) # wektor 5 pseudolosowych liczb\n",
    "# dla N = 1 \n",
    "c_unorm = c/np.sum(c)\n",
    "d_unorm = d/np.sum(d)\n",
    "scalar_product = np.inner(c_unorm,d_unorm)\n",
    "print \"Unormowany iloczyn skalarny wektorów c i d to: \", scalar_product\n",
    "# dla N > 1 \n",
    "x = np.array([[1, 2, 3], [4, 5, 6]])\n",
    "y = np.array([[2,4,6],[8,9,6]])\n",
    "x_unorm = x/np.sum(x)\n",
    "y_unorm = y/np.sum(y)\n",
    "scalar_product_N = np.inner(x_unorm, y_unorm)\n",
    "print \"Unormowany iloczyn skalarny wektorów x i y to: \", scalar_product_N\n",
    "# Jak zwiększym ilość wymiarów, to iloczyn skalarny jest bliższy zeru (w przypadku powyżej wynosi zero)"
   ]
  },
  {
   "cell_type": "markdown",
   "metadata": {},
   "source": [
    "## 3. Matplotlib\n",
    "\n",
    "Podstawowy pakiet do rysowania. Istnieje dużo nakładek na matplotlib, najciekawsza to prawdopodobnie seaborn"
   ]
  },
  {
   "cell_type": "code",
   "execution_count": 14,
   "metadata": {
    "collapsed": true
   },
   "outputs": [],
   "source": [
    "import matplotlib.pylab as plt # Import podpakietu jako plt\n",
    "# Magia IPython Notebook :) Pokazuje wykresy w konsoli\n",
    "%matplotlib inline "
   ]
  },
  {
   "cell_type": "code",
   "execution_count": 15,
   "metadata": {
    "collapsed": false
   },
   "outputs": [
    {
     "name": "stdout",
     "output_type": "stream",
     "text": [
      "[ 0.          0.05263158  0.10526316  0.15789474  0.21052632  0.26315789\n",
      "  0.31578947  0.36842105  0.42105263  0.47368421  0.52631579  0.57894737\n",
      "  0.63157895  0.68421053  0.73684211  0.78947368  0.84210526  0.89473684\n",
      "  0.94736842  1.        ]\n"
     ]
    },
    {
     "name": "stderr",
     "output_type": "stream",
     "text": [
      "/home/karolinka/anaconda2/lib/python2.7/site-packages/matplotlib/font_manager.py:273: UserWarning: Matplotlib is building the font cache using fc-list. This may take a moment.\n",
      "  warnings.warn('Matplotlib is building the font cache using fc-list. This may take a moment.')\n"
     ]
    },
    {
     "data": {
      "image/png": "[encoded data removed]",
      "text/plain": [
       "<matplotlib.figure.Figure at 0x7fbfe04921d0>"
      ]
     },
     "metadata": {},
     "output_type": "display_data"
    }
   ],
   "source": [
    "x = np.linspace(0,1,20) # Tworzy wektor z 20 wartosciami w równych odstępach od 0 do 1\n",
    "print x\n",
    "_ = plt.plot(x, 'o-') # matplotlib naśladuje składnie matlaba"
   ]
  },
  {
   "cell_type": "code",
   "execution_count": 10,
   "metadata": {
    "collapsed": false
   },
   "outputs": [
    {
     "data": {
      "image/png": "[encoded data removed]",
      "text/plain": [
       "<matplotlib.figure.Figure at 0x10a630cd0>"
      ]
     },
     "metadata": {},
     "output_type": "display_data"
    }
   ],
   "source": [
    "plt.plot(x, x, 'o-', label='liniowa')\n",
    "plt.plot(x, x ** 2, 'x-', label='kwadratowa') # Operacja na wektorze numpy ! x ** 2 podnosi każdy element do kwadratu\n",
    "\n",
    "plt.legend(loc='best')\n",
    "_ = plt.title('Funkcja liniowa vs funkcja kwadratowa')"
   ]
  },
  {
   "cell_type": "code",
   "execution_count": 11,
   "metadata": {
    "collapsed": false
   },
   "outputs": [
    {
     "name": "stdout",
     "output_type": "stream",
     "text": [
      "Pierwsze 10 z wylosowanej próby:  [ 1.36959209  0.26680805  0.95946403  1.02949203  0.41623119  1.70655422\n",
      "  0.49042707  1.33225522  0.85912304  0.15838457]\n",
      "Rozmiar próby:  (1000,)\n"
     ]
    },
    {
     "data": {
      "image/png": "[encoded data removed]",
      "text/plain": [
       "<matplotlib.figure.Figure at 0x10a5e3350>"
      ]
     },
     "metadata": {},
     "output_type": "display_data"
    }
   ],
   "source": [
    "# Są inne wykresy, np histogram\n",
    "samples = np.random.normal(loc=1.0, scale=0.5, size=1000) # 1000 liczb z rozkładu normalnego\n",
    "print \"Pierwsze 10 z wylosowanej próby: \", samples[0:10] # 10 pierwszych\n",
    "print \"Rozmiar próby: \", samples.shape # rozmiar\n",
    "_ = plt.hist(samples, bins=10)"
   ]
  },
  {
   "cell_type": "code",
   "execution_count": 12,
   "metadata": {
    "collapsed": false
   },
   "outputs": [
    {
     "data": {
      "image/png": "[encoded data removed]",
      "text/plain": [
       "<matplotlib.figure.Figure at 0x10a5df390>"
      ]
     },
     "metadata": {},
     "output_type": "display_data"
    }
   ],
   "source": [
    "# Inny przykład bez tłumaczenia \n",
    "samples_1 = np.random.normal(loc=1, scale=.5, size=10000) # Rozklad Gaussa\n",
    "samples_2 = np.random.standard_t(df=10, size=10000) # Rozklad studenta t (taki jakby Gauss :))\n",
    "bins = np.linspace(-3, 3, 50)\n",
    "_ = plt.hist(samples_1, bins=bins, alpha=0.5, label='samples 1')\n",
    "_ = plt.hist(samples_2, bins=bins, alpha=0.5, label='samples 2')\n",
    "_ = plt.legend(loc='upper left')"
   ]
  },
  {
   "cell_type": "markdown",
   "metadata": {},
   "source": [
    "## Ćwiczenie 2 (1 pkt)\n",
    "\n",
    "Prosze narysowac wylosowac 100 punktow z np.random.uniform z 2 wspolrzednymi i narysowac za pomoc plt.scatter"
   ]
  },
  {
   "cell_type": "code",
   "execution_count": 7,
   "metadata": {
    "collapsed": false
   },
   "outputs": [
    {
     "data": {
      "text/plain": [
       "<matplotlib.collections.PathCollection at 0x7fb9827664d0>"
      ]
     },
     "execution_count": 7,
     "metadata": {},
     "output_type": "execute_result"
    },
    {
     "data": {
      "image/png": "[encoded data removed]",
      "text/plain": [
       "<matplotlib.figure.Figure at 0x7fb98378ca50>"
      ]
     },
     "metadata": {},
     "output_type": "display_data"
    }
   ],
   "source": [
    "import matplotlib.pylab as plt\n",
    "%matplotlib inline \n",
    "x = np.random.uniform(0, 1000000, size=100)\n",
    "y = np.random.uniform(0, 1000000, size=100)\n",
    "plt.scatter(x,y) # Przyklad wywolania plt.scatter"
   ]
  }
 ],
 "metadata": {
  "anaconda-cloud": {},
  "kernelspec": {
   "display_name": "Python [default]",
   "language": "python",
   "name": "python2"
  },
  "language_info": {
   "codemirror_mode": {
    "name": "ipython",
    "version": 2
   },
   "file_extension": ".py",
   "mimetype": "text/x-python",
   "name": "python",
   "nbconvert_exporter": "python",
   "pygments_lexer": "ipython2",
   "version": "2.7.12"
  },
  "toc": {
   "toc_cell": false,
   "toc_number_sections": true,
   "toc_threshold": 6,
   "toc_window_display": false
  }
 },
 "nbformat": 4,
 "nbformat_minor": 0
}
