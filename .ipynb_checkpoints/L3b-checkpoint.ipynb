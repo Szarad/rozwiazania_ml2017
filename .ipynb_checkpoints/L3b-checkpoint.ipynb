{
 "cells": [
  {
   "cell_type": "markdown",
   "metadata": {},
   "source": [
    "# L3b: Praktyczny Machine Learning w Pythonie\n",
    "<br>\n",
    "<img src=\"figures/L1/dilbert-2213.gif\">\n",
    "\n",
    "## Rozpoznawanie cyfr\n",
    "\n",
    "Nasz model będzie składał się z 2 kroków:\n",
    "1. Zmniejszenie ilości wymiarów\n",
    "2. Klasyfikacja modelem liniowym\n",
    "\n",
    "Najpierw jednak musimy zapoznać się ze zbiorem danych."
   ]
  },
  {
   "cell_type": "code",
   "execution_count": 2,
   "metadata": {
    "collapsed": false
   },
   "outputs": [],
   "source": [
    "from sklearn.datasets import fetch_mldata\n",
    "mnist = fetch_mldata('MNIST original')"
   ]
  },
  {
   "cell_type": "markdown",
   "metadata": {},
   "source": [
    "### MNIST\n",
    "\n",
    "<img src=\"figures/L1/mnist_originals.png\">\n",
    "\n",
    "MNIST to baza danych odręcznie napisanych cyfr około 20 lat temu. Ludzie są w stanie rozpoznać ok. 99,5% cyfr z tego zbioru poprawnie.\n",
    "Zobaczymy ile nam się uda!"
   ]
  },
  {
   "cell_type": "code",
   "execution_count": 3,
   "metadata": {
    "collapsed": false
   },
   "outputs": [
    {
     "name": "stdout",
     "output_type": "stream",
     "text": [
      "Pierwsz obrazek z  70000 : [  0   0   0   0   0   0   0   0   0   0   0   0   0   0   0   0   0   0\n",
      "   0   0   0   0   0   0   0   0   0   0   0   0   0   0   0   0   0   0\n",
      "   0   0   0   0   0   0   0   0   0   0   0   0   0   0   0   0   0   0\n",
      "   0   0   0   0   0   0   0   0   0   0   0   0   0   0   0   0   0   0\n",
      "   0   0   0   0   0   0   0   0   0   0   0   0   0   0   0   0   0   0\n",
      "   0   0   0   0   0   0   0   0   0   0   0   0   0   0   0   0   0   0\n",
      "   0   0   0   0   0   0   0   0   0   0   0   0   0   0   0   0   0   0\n",
      "   0  51 159 253 159  50   0   0   0   0   0   0   0   0   0   0   0   0\n",
      "   0   0   0   0   0   0   0   0   0   0  48 238 252 252 252 237   0   0\n",
      "   0   0   0   0   0   0   0   0   0   0   0   0   0   0   0   0   0   0\n",
      "   0  54 227 253 252 239 233 252  57   6   0   0   0   0   0   0   0   0\n",
      "   0   0   0   0   0   0   0   0   0  10  60 224 252 253 252 202  84 252\n",
      " 253 122   0   0   0   0   0   0   0   0   0   0   0   0   0   0   0   0\n",
      "   0 163 252 252 252 253 252 252  96 189 253 167   0   0   0   0   0   0\n",
      "   0   0   0   0   0   0   0   0   0   0  51 238 253 253 190 114 253 228\n",
      "  47  79 255 168   0   0   0   0   0   0   0   0   0   0   0   0   0   0\n",
      "   0  48 238 252 252 179  12  75 121  21   0   0 253 243  50   0   0   0\n",
      "   0   0   0   0   0   0   0   0   0   0  38 165 253 233 208  84   0   0\n",
      "   0   0   0   0 253 252 165   0   0   0   0   0   0   0   0   0   0   0\n",
      "   0   7 178 252 240  71  19  28   0   0   0   0   0   0 253 252 195   0\n",
      "   0   0   0   0   0   0   0   0   0   0   0  57 252 252  63   0   0   0\n",
      "   0   0   0   0   0   0 253 252 195   0   0   0   0   0   0   0   0   0\n",
      "   0   0   0 198 253 190   0   0   0   0   0   0   0   0   0   0 255 253\n",
      " 196   0   0   0   0   0   0   0   0   0   0   0  76 246 252 112   0   0\n",
      "   0   0   0   0   0   0   0   0 253 252 148   0   0   0   0   0   0   0\n",
      "   0   0   0   0  85 252 230  25   0   0   0   0   0   0   0   0   7 135\n",
      " 253 186  12   0   0   0   0   0   0   0   0   0   0   0  85 252 223   0\n",
      "   0   0   0   0   0   0   0   7 131 252 225  71   0   0   0   0   0   0\n",
      "   0   0   0   0   0   0  85 252 145   0   0   0   0   0   0   0  48 165\n",
      " 252 173   0   0   0   0   0   0   0   0   0   0   0   0   0   0  86 253\n",
      " 225   0   0   0   0   0   0 114 238 253 162   0   0   0   0   0   0   0\n",
      "   0   0   0   0   0   0   0   0  85 252 249 146  48  29  85 178 225 253\n",
      " 223 167  56   0   0   0   0   0   0   0   0   0   0   0   0   0   0   0\n",
      "  85 252 252 252 229 215 252 252 252 196 130   0   0   0   0   0   0   0\n",
      "   0   0   0   0   0   0   0   0   0   0  28 199 252 252 253 252 252 233\n",
      " 145   0   0   0   0   0   0   0   0   0   0   0   0   0   0   0   0   0\n",
      "   0   0   0  25 128 252 253 252 141  37   0   0   0   0   0   0   0   0\n",
      "   0   0   0   0   0   0   0   0   0   0   0   0   0   0   0   0   0   0\n",
      "   0   0   0   0   0   0   0   0   0   0   0   0   0   0   0   0   0   0\n",
      "   0   0   0   0   0   0   0   0   0   0   0   0   0   0   0   0   0   0\n",
      "   0   0   0   0   0   0   0   0   0   0   0   0   0   0   0   0   0   0\n",
      "   0   0   0   0   0   0   0   0   0   0   0   0   0   0   0   0   0   0\n",
      "   0   0   0   0   0   0   0   0   0   0   0   0   0   0   0   0   0   0\n",
      "   0   0   0   0   0   0   0   0   0   0]\n"
     ]
    }
   ],
   "source": [
    "img = mnist.data[0]\n",
    "print \"Pierwsz obrazek z \", mnist.data.shape[0], \":\", img # Pixele"
   ]
  },
  {
   "cell_type": "code",
   "execution_count": 4,
   "metadata": {
    "collapsed": false
   },
   "outputs": [
    {
     "data": {
      "text/plain": [
       "<matplotlib.image.AxesImage at 0x7f41b688a310>"
      ]
     },
     "execution_count": 4,
     "metadata": {},
     "output_type": "execute_result"
    },
    {
     "data": {
      "image/png": "[encoded data removed]",
      "text/plain": [
       "<matplotlib.figure.Figure at 0x7f41b9c24b10>"
      ]
     },
     "metadata": {},
     "output_type": "display_data"
    }
   ],
   "source": [
    "# Możemy sobie narysować wcześniej wypisaną cyfrę\n",
    "import matplotlib.pylab as plt\n",
    "%matplotlib inline\n",
    "plt.imshow(img.reshape(28,28), cmap=\"gray\")"
   ]
  },
  {
   "cell_type": "code",
   "execution_count": 5,
   "metadata": {
    "collapsed": true
   },
   "outputs": [],
   "source": [
    "import sklearn\n",
    "from sklearn import linear_model, decomposition\n",
    "from sklearn.pipeline import Pipeline\n",
    "from sklearn.cross_validation import train_test_split\n",
    "from sklearn.linear_model import LogisticRegression\n",
    "from sklearn import preprocessing\n",
    "import numpy as np"
   ]
  },
  {
   "cell_type": "markdown",
   "metadata": {},
   "source": [
    "### Krok 1: wczytanie i podzielenie danych\n",
    "\n",
    "Skalowanie jest bardzo ważne. Dzięki temu mamy średnią danej cechy 0 i wariancję 1 (mówiąc po ludzku, dane będą bardziej  przypominały kulke w przestrzeni wejściowej)\n",
    "\n",
    "<img src=\"figures/L1/prepro2.jpeg\" width=600>"
   ]
  },
  {
   "cell_type": "code",
   "execution_count": 6,
   "metadata": {
    "collapsed": true
   },
   "outputs": [],
   "source": [
    "#Wczytujemy dane i skalujemy\n",
    "X, Y = mnist.data.astype(\"float64\"), mnist.target \n",
    "X = preprocessing.scale(X)"
   ]
  },
  {
   "cell_type": "markdown",
   "metadata": {},
   "source": [
    "Tak jak wspomniałem algorytm trenujemy na innych danych niż testujemy. **To bardzo ważne**. Do każdych danych da się dopasować taki model, który idealnie na nich odpowiada (np. poprzez zapamiętanie wszystkich przykładów). Jeśli tak zrobimy, to mówimy że nasz model **zoverfitował**.\n",
    "\n",
    "<img src=\"figures/L1/underfitting-overfitting.png\">"
   ]
  },
  {
   "cell_type": "code",
   "execution_count": 7,
   "metadata": {
    "collapsed": true
   },
   "outputs": [],
   "source": [
    "#Dzielimy na dane trenujące i testujące\n",
    "X_train, X_test, Y_train, Y_test = train_test_split(X,Y)"
   ]
  },
  {
   "cell_type": "markdown",
   "metadata": {},
   "source": [
    "### Krok 2: dopasujmy pare modeli"
   ]
  },
  {
   "cell_type": "code",
   "execution_count": 8,
   "metadata": {
    "collapsed": false
   },
   "outputs": [
    {
     "name": "stdout",
     "output_type": "stream",
     "text": [
      "Dokładność modelu wytrenowanego na  500  przykladach to:  78.5371428571 %\n"
     ]
    }
   ],
   "source": [
    "# Na wszystkich przykladach osiaga 92% dokladnosci. \n",
    "N = 500 # Podzbiór danych\n",
    "model = LogisticRegression(C=0.001) # Model z domyślnymi parametrami\n",
    "model.fit(X_train[0:N], Y_train[0:N])\n",
    "\n",
    "Y_test_predicted = model.predict(X_test)\n",
    "print \"Dokładność modelu wytrenowanego na \",N, \" przykladach to: \",100*sklearn.metrics.accuracy_score(Y_test, Y_test_predicted), \"%\""
   ]
  },
  {
   "cell_type": "code",
   "execution_count": 9,
   "metadata": {
    "collapsed": false
   },
   "outputs": [
    {
     "name": "stdout",
     "output_type": "stream",
     "text": [
      "Dokładność modelu wytrenowanego na  500  przykladach to:  78.0628571429 %\n"
     ]
    }
   ],
   "source": [
    "# Na wszystkich przykladach osiaga 92% dokladnosci. \n",
    "N = 500 # Podzbiór danych\n",
    "model = LogisticRegression(C=1) # Mniej regularyzacji, a taka sama dokladnosc\n",
    "model.fit(X_train[0:N], Y_train[0:N])\n",
    "\n",
    "Y_test_predicted = model.predict(X_test)\n",
    "print \"Dokładność modelu wytrenowanego na \",N, \" przykladach to: \",100*sklearn.metrics.accuracy_score(Y_test, Y_test_predicted), \"%\""
   ]
  },
  {
   "cell_type": "code",
   "execution_count": 10,
   "metadata": {
    "collapsed": false
   },
   "outputs": [
    {
     "name": "stdout",
     "output_type": "stream",
     "text": [
      "Przyklad zaklasyfikowany jako  [ 5.]\n"
     ]
    },
    {
     "name": "stderr",
     "output_type": "stream",
     "text": [
      "/home/karolinka/anaconda2/lib/python2.7/site-packages/sklearn/utils/validation.py:386: DeprecationWarning: Passing 1d arrays as data is deprecated in 0.17 and willraise ValueError in 0.19. Reshape your data either using X.reshape(-1, 1) if your data has a single feature or X.reshape(1, -1) if it contains a single sample.\n",
      "  DeprecationWarning)\n"
     ]
    },
    {
     "data": {
      "text/plain": [
       "<matplotlib.image.AxesImage at 0x7f4198e30510>"
      ]
     },
     "execution_count": 10,
     "metadata": {},
     "output_type": "execute_result"
    },
    {
     "data": {
      "image/png": "[encoded data removed]",
      "text/plain": [
       "<matplotlib.figure.Figure at 0x7f41b37d7810>"
      ]
     },
     "metadata": {},
     "output_type": "display_data"
    }
   ],
   "source": [
    "print \"Przyklad zaklasyfikowany jako \", model.predict(X_test[5])\n",
    "plt.imshow(X_test[5].reshape(28,28), cmap=\"gray\")"
   ]
  },
  {
   "cell_type": "markdown",
   "metadata": {},
   "source": [
    "### Cwiczenie 1 (1 pkt)\n",
    "\n",
    "Prosze narysowac wykres (plt.plot) dokladnosci w zaleznosci od wartosci C na zbiorze treningowym i testowym (dla tych N=500 przykladow)"
   ]
  },
  {
   "cell_type": "code",
   "execution_count": null,
   "metadata": {
    "collapsed": false
   },
   "outputs": [
    {
     "name": "stdout",
     "output_type": "stream",
     "text": [
      "79.2171428571\n",
      "78.7428571429\n",
      "78.5314285714\n",
      "78.4228571429\n",
      "78.3371428571\n",
      "78.2571428571\n",
      "78.1657142857\n",
      "78.1142857143\n",
      "78.0457142857\n",
      "78.0628571429\n",
      "78.0\n",
      "77.9885714286\n",
      "77.9885714286\n",
      "77.9257142857\n",
      "77.88\n",
      "77.8457142857\n",
      "77.7942857143\n",
      "77.7485714286\n",
      "77.7085714286\n",
      "77.7028571429\n",
      "77.6857142857\n",
      "77.6571428571\n",
      "77.6228571429\n",
      "77.6171428571\n",
      "77.6\n",
      "77.5885714286\n",
      "77.5885714286\n",
      "77.5657142857\n",
      "77.5485714286\n",
      "77.52\n",
      "77.5142857143\n",
      "77.4914285714\n",
      "77.48\n",
      "77.48\n",
      "77.4742857143\n",
      "77.4571428571\n",
      "77.4628571429\n",
      "77.4628571429\n",
      "77.4628571429\n",
      "77.4628571429\n",
      "77.4514285714\n",
      "77.4342857143\n",
      "77.4285714286\n",
      "77.4228571429\n",
      "77.4228571429\n",
      "77.4114285714\n",
      "77.4171428571\n",
      "77.4171428571\n",
      "77.3885714286\n",
      "77.3714285714\n",
      "77.3714285714\n",
      "77.36\n",
      "77.3485714286\n",
      "77.3257142857\n",
      "77.32\n",
      "77.3028571429\n",
      "77.3028571429\n",
      "77.2857142857\n",
      "77.2685714286\n",
      "77.2628571429\n",
      "77.2571428571\n",
      "77.2514285714\n",
      "77.2571428571\n",
      "77.2571428571\n",
      "77.2571428571\n",
      "77.2514285714\n",
      "77.2514285714\n",
      "77.2457142857\n",
      "77.2457142857\n",
      "77.24\n",
      "77.24\n",
      "77.2342857143\n",
      "77.2342857143\n",
      "77.2228571429\n",
      "77.2114285714\n",
      "77.2057142857\n",
      "77.2057142857\n",
      "77.1828571429\n",
      "77.1771428571\n",
      "77.1771428571\n",
      "77.1828571429\n",
      "77.1828571429\n",
      "77.16\n",
      "77.1542857143\n",
      "77.1542857143\n",
      "77.1314285714\n",
      "77.12\n",
      "77.1142857143\n"
     ]
    }
   ],
   "source": [
    "C=0\n",
    "Accurancy = []\n",
    "for x in range(100):\n",
    "    C+=0.1\n",
    "    model = LogisticRegression(C=C) \n",
    "    model.fit(X_train[0:N], Y_train[0:N])\n",
    "    Y_test_predicted = model.predict(X_test)\n",
    "    accurancy =100*sklearn.metrics.accuracy_score(Y_test, Y_test_predicted)\n",
    "    Accurancy.append(accurancy)\n",
    "    print accurancy\n",
    "print accurancy\n",
    "print X_test\n",
    "print Accurancy\n",
    "plt.plot(Accurancy)\n",
    "#plt.plot(domain, t)"
   ]
  },
  {
   "cell_type": "markdown",
   "metadata": {},
   "source": [
    "### Cwiczenie 2 (2 pkt)\n",
    "\n",
    "(Punkt za narysowanie oraz punkt za poprawne wytłumaczenie)\n",
    "\n",
    "Proszę narysować jak wyglądaja nauczone wagi modelu dla różnych wartości parametru C (należy użyc plt.imshow). Z czego wynikają różnice w narysowanych obrazkach? "
   ]
  },
  {
   "cell_type": "markdown",
   "metadata": {},
   "source": [
    "### Krok 3: Tworzymy caly model zmniejszając wielkość przykładów\n",
    "\n",
    "W scikit-learn możemy połączyć pare modeli w **pipeline**, który sam implementuje interfejs **Estimator**."
   ]
  },
  {
   "cell_type": "code",
   "execution_count": 35,
   "metadata": {
    "collapsed": true
   },
   "outputs": [],
   "source": [
    "pca = decomposition.PCA(n_components=20)\n",
    "pca.fit(X_train)\n",
    "X_train_transf = pca.transform(X_train)"
   ]
  },
  {
   "cell_type": "code",
   "execution_count": 36,
   "metadata": {
    "collapsed": false
   },
   "outputs": [
    {
     "data": {
      "text/plain": [
       "LogisticRegression(C=0.1, class_weight=None, dual=False, fit_intercept=True,\n",
       "          intercept_scaling=1, max_iter=100, multi_class='ovr', n_jobs=1,\n",
       "          penalty='l2', random_state=None, solver='liblinear', tol=0.0001,\n",
       "          verbose=0, warm_start=False)"
      ]
     },
     "execution_count": 36,
     "metadata": {},
     "output_type": "execute_result"
    }
   ],
   "source": [
    "logistic = linear_model.LogisticRegression(C=0.1)\n",
    "logistic.fit(X_train_transf, Y_train)"
   ]
  },
  {
   "cell_type": "code",
   "execution_count": 37,
   "metadata": {
    "collapsed": true
   },
   "outputs": [],
   "source": [
    "pipe = Pipeline(steps=[('pca', pca), ('logistic', logistic)])"
   ]
  },
  {
   "cell_type": "code",
   "execution_count": 42,
   "metadata": {
    "collapsed": false
   },
   "outputs": [
    {
     "name": "stdout",
     "output_type": "stream",
     "text": [
      "Dokładność modelu wytrenowanego to:  85.1257142857 %\n"
     ]
    }
   ],
   "source": [
    "# Zobaczmy na dokładność modelu\n",
    "Y_test_predicted = pipe.predict(X_test)\n",
    "print \"Dokładność modelu wytrenowanego to: \",100*sklearn.metrics.accuracy_score(Y_test, Y_test_predicted), \"%\""
   ]
  },
  {
   "cell_type": "markdown",
   "metadata": {},
   "source": [
    "# Deep Learning\n",
    "\n",
    "Jak widać, na rozważanych zbiorach, można osiągnąć wysoką dokładność (>85%) używając prostych modeli. Niestety na bardziej skomplikowanych danych (np. CIFAR-100, https://www.cs.toronto.edu/~kriz/cifar.html) nie jest już tak prosto.\n",
    "\n",
    "Tradycyjne architektury, które były popularne do niedawna, używały ręcznej ekstrakcji \"lepszych\" cech:\n",
    "\n",
    "<img src=\"figures/L1/standard.jpg\">\n",
    "\n",
    "Deep Learning jest poddziedziną machine learningu, gdzie rozważamy architektury, które samoistnie uczą się cech na tyle dobrych, że dokładnie takie same modele jak Państwu pokazywaliśmy działają z zadowalającą precyzją\n",
    "\n",
    "<img src=\"figures/L1/features.png\">"
   ]
  }
 ],
 "metadata": {
  "anaconda-cloud": {},
  "kernelspec": {
   "display_name": "Python [default]",
   "language": "python",
   "name": "python2"
  },
  "language_info": {
   "codemirror_mode": {
    "name": "ipython",
    "version": 2
   },
   "file_extension": ".py",
   "mimetype": "text/x-python",
   "name": "python",
   "nbconvert_exporter": "python",
   "pygments_lexer": "ipython2",
   "version": "2.7.12"
  },
  "toc": {
   "toc_cell": false,
   "toc_number_sections": true,
   "toc_threshold": 6,
   "toc_window_display": false
  }
 },
 "nbformat": 4,
 "nbformat_minor": 0
}
